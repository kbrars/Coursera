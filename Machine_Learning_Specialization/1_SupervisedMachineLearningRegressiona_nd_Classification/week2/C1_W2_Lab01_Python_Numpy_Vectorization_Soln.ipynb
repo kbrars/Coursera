{
 "cells": [
  {
   "cell_type": "markdown",
   "metadata": {},
   "source": [
    "# Optional Lab: Python, NumPy and Vectorization\n"
   ]
  },
  {
   "cell_type": "markdown",
   "metadata": {},
   "source": [
    "<a name=\"toc_40015_1.1\"></a>\n",
    "## 1.1 Goals\n",
    "In this lab, you will:\n",
    "- Review the features of NumPy and Python that are used in Course 1"
   ]
  },
  {
   "cell_type": "code",
   "execution_count": 1,
   "metadata": {},
   "outputs": [],
   "source": [
    "import numpy as np\n",
    "import time"
   ]
  },
  {
   "cell_type": "code",
   "execution_count": 7,
   "metadata": {},
   "outputs": [
    {
     "name": "stdout",
     "output_type": "stream",
     "text": [
      " Value: [0. 0. 0. 0.] Shape of Value: (4,)\n",
      " Value: [0. 0. 0. 0.] Shape of Value: (4,)\n",
      " Value: [0.42655235 0.57599058 0.40131182 0.83948619] Shape of Value: (4,)\n"
     ]
    }
   ],
   "source": [
    "## NumPy routines which allocate memory and fill arrays with value\n",
    "a = np.zeros(4)\n",
    "b = np.zeros((4,))\n",
    "c = np.random.random_sample(4) # 0-1 random 4 examples\n",
    "\n",
    "\n",
    "print(f\" Value: {a} Shape of Value: {a.shape}\")\n",
    "print(f\" Value: {b} Shape of Value: {b.shape}\")\n",
    "print(f\" Value: {c} Shape of Value: {c.shape}\")"
   ]
  },
  {
   "cell_type": "code",
   "execution_count": 9,
   "metadata": {},
   "outputs": [
    {
     "name": "stdout",
     "output_type": "stream",
     "text": [
      " Value: [0. 1. 2. 3.] Shape of Value: (4,)\n",
      " Value: [0.66974982 0.44569144 0.45095839 0.49464996] Shape of Value: (4,)\n"
     ]
    }
   ],
   "source": [
    "# NumPy routines which allocate memory and fill arrays with value but do not accept shape as input argument\n",
    "a = np.arange(4.)\n",
    "b = np.random.rand(4) # 0-1 random 4 examples\n",
    "\n",
    "print(f\" Value: {a} Shape of Value: {a.shape}\")\n",
    "print(f\" Value: {b} Shape of Value: {b.shape}\")"
   ]
  },
  {
   "cell_type": "code",
   "execution_count": 10,
   "metadata": {},
   "outputs": [
    {
     "name": "stdout",
     "output_type": "stream",
     "text": [
      " Value: [5 4 3 2] Type of Value: int32\n",
      " Value: [5. 4. 3. 2.] Shape of Value: float64\n"
     ]
    }
   ],
   "source": [
    "# NumPy routines which allocate memory and fill with user specified values\n",
    "a = np.array([5,4,3,2])\n",
    "b = np.array([5.,4,3,2])\n",
    "\n",
    "print(f\" Value: {a} Type of Value: {a.dtype}\")\n",
    "print(f\" Value: {b} Shape of Value: {b.dtype}\")"
   ]
  },
  {
   "cell_type": "markdown",
   "metadata": {},
   "source": [
    "Indexing"
   ]
  },
  {
   "cell_type": "code",
   "execution_count": 16,
   "metadata": {},
   "outputs": [
    {
     "name": "stdout",
     "output_type": "stream",
     "text": [
      "[0 1 2 3 4 5 6 7 8 9]\n",
      "first element: 1 second element: 2   last element: 9\n",
      "first 3 elements : [0 1 2]\n",
      "all elements : [0 1 2 3 4 5 6 7 8 9]\n",
      "last 3 elements [7 8 9]\n"
     ]
    }
   ],
   "source": [
    "a = np.arange(10)\n",
    "print(a)\n",
    "#access an element\n",
    "print(f\"first element: {a[1]} second element: {a[2]}   last element: {a[-1]}\")\n",
    "\n",
    "print(f\"first 3 elements : {a[:3]}\")\n",
    "print(f\"all elements : {a[:]}\")\n",
    "print(f\"last 3 elements {a[-3:]}\")\n"
   ]
  },
  {
   "cell_type": "markdown",
   "metadata": {},
   "source": [
    "Single vector operations"
   ]
  },
  {
   "cell_type": "code",
   "execution_count": 21,
   "metadata": {},
   "outputs": [
    {
     "name": "stdout",
     "output_type": "stream",
     "text": [
      "a: [1 2 3 4]\n",
      "b: [-1 -2 -3 -4]\n",
      "c: -10\n",
      "d: 2.5\n",
      "e: [ 1  4  9 16]\n"
     ]
    }
   ],
   "source": [
    "a = np.array([1,2,3,4])\n",
    "\n",
    "b = -a\n",
    "c = np.sum(b)\n",
    "d = np.mean(a)\n",
    "e = a**2\n",
    "\n",
    "print(f\"a: {a}\")\n",
    "print(f\"b: {b}\")\n",
    "print(f\"c: {c}\")\n",
    "print(f\"d: {d}\")\n",
    "print(f\"e: {e}\")\n"
   ]
  },
  {
   "cell_type": "code",
   "execution_count": 25,
   "metadata": {},
   "outputs": [
    {
     "name": "stdout",
     "output_type": "stream",
     "text": [
      "[ 6  8 10 12]\n"
     ]
    }
   ],
   "source": [
    "a = np.array([1,2,3,4])\n",
    "b = np.array([5,6,7,8])\n",
    "\n",
    "print(a+b)"
   ]
  },
  {
   "cell_type": "code",
   "execution_count": 26,
   "metadata": {},
   "outputs": [],
   "source": [
    "#Vectorization\n",
    "def my_dot(a,b):\n",
    "    \"\"\"\n",
    "   Compute the dot product of two vectors\n",
    " \n",
    "    Args:\n",
    "      a (ndarray (n,)):  input vector \n",
    "      b (ndarray (n,)):  input vector with same dimension as a\n",
    "    \n",
    "    Returns:\n",
    "      x (scalar): \n",
    "    \"\"\"\n",
    "    x = 0\n",
    "    for i in range(a.shape[0]):\n",
    "        x = x + a[i] * b[i]\n",
    "    return x"
   ]
  },
  {
   "cell_type": "code",
   "execution_count": 28,
   "metadata": {},
   "outputs": [
    {
     "name": "stdout",
     "output_type": "stream",
     "text": [
      "my_dot(a, b) = 24\n",
      "24\n"
     ]
    }
   ],
   "source": [
    "# test 1-D\n",
    "a = np.array([1, 2, 3, 4])\n",
    "b = np.array([-1, 4, 3, 2])\n",
    "print(f\"my_dot(a, b) = {my_dot(a, b)}\")\n",
    "print(np.dot(a,b))"
   ]
  }
 ],
 "metadata": {
  "kernelspec": {
   "display_name": "base",
   "language": "python",
   "name": "python3"
  },
  "language_info": {
   "codemirror_mode": {
    "name": "ipython",
    "version": 3
   },
   "file_extension": ".py",
   "mimetype": "text/x-python",
   "name": "python",
   "nbconvert_exporter": "python",
   "pygments_lexer": "ipython3",
   "version": "3.11.7"
  }
 },
 "nbformat": 4,
 "nbformat_minor": 2
}
